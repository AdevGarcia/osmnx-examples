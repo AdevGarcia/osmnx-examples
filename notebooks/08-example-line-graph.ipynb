{
 "cells": [
  {
   "cell_type": "markdown",
   "metadata": {},
   "source": [
    "## Street network centrality analysis\n",
    "\n",
    "Author: [Geoff Boeing](https://geoffboeing.com/)\n",
    "\n",
    "We can calculate and visualize how \"important\" a node or an edge is in a street network by measuring its centrality.\n",
    "\n",
    "In some traditions of street network analysis, streets are represented as nodes and intersections are represented as edges. This is called a line graph, or sometimes a dual graph, and it essentially inverts the topology of the street network seen above. We can do this with OSMnx too.\n",
    "\n",
    "  - [Overview of OSMnx](http://geoffboeing.com/2016/11/osmnx-python-street-networks/)\n",
    "  - [GitHub repo](https://github.com/gboeing/osmnx)\n",
    "  - [Examples, demos, tutorials](https://github.com/gboeing/osmnx-examples)\n",
    "  - [Documentation](https://osmnx.readthedocs.io/en/stable/)\n",
    "  - [Journal article/citation](http://geoffboeing.com/publications/osmnx-complex-street-networks/)"
   ]
  },
  {
   "cell_type": "code",
   "execution_count": null,
   "metadata": {},
   "outputs": [],
   "source": [
    "import matplotlib.cm as cm\n",
    "import matplotlib.colors as colors\n",
    "import networkx as nx\n",
    "import osmnx as ox\n",
    "import pandas as pd\n",
    "%matplotlib inline\n",
    "ox.config(log_console=True, use_cache=True)\n",
    "ox.__version__"
   ]
  },
  {
   "cell_type": "code",
   "execution_count": null,
   "metadata": {},
   "outputs": [],
   "source": [
    "# download and project a street network\n",
    "G = ox.graph_from_place('Piedmont, California', network_type='drive')\n",
    "G = ox.project_graph(G)\n",
    "fig, ax = ox.plot_graph(G, bgcolor='k', node_size=30, node_color='#999999', node_edgecolor='none', node_zorder=2,\n",
    "                        edge_color='#555555', edge_linewidth=1.5, edge_alpha=1)"
   ]
  },
  {
   "cell_type": "markdown",
   "metadata": {},
   "source": [
    "## Calculate and visualize node centrality"
   ]
  },
  {
   "cell_type": "code",
   "execution_count": null,
   "metadata": {},
   "outputs": [],
   "source": [
    "# node closeness centrality\n",
    "node_centrality = nx.closeness_centrality(G)"
   ]
  },
  {
   "cell_type": "code",
   "execution_count": null,
   "metadata": {},
   "outputs": [],
   "source": [
    "# plot it\n",
    "df = pd.DataFrame(data=pd.Series(node_centrality).sort_values(), columns=['cc'])\n",
    "df['colors'] = ox.get_colors(n=len(df), cmap='inferno', start=0.2)\n",
    "df = df.reindex(G.nodes())\n",
    "nc = df['colors'].tolist()\n",
    "fig, ax = ox.plot_graph(G, bgcolor='k', node_size=30, node_color=nc, node_edgecolor='none', node_zorder=2,\n",
    "                        edge_color='#555555', edge_linewidth=1.5, edge_alpha=1)"
   ]
  },
  {
   "cell_type": "markdown",
   "metadata": {},
   "source": [
    "## Calculate and visualize edge centrality"
   ]
  },
  {
   "cell_type": "code",
   "execution_count": null,
   "metadata": {},
   "outputs": [],
   "source": [
    "# edge closeness centrality: convert graph to a line graph so edges become nodes and vice versa\n",
    "edge_centrality = nx.closeness_centrality(nx.line_graph(G))"
   ]
  },
  {
   "cell_type": "code",
   "execution_count": null,
   "metadata": {},
   "outputs": [],
   "source": [
    "# list of edge values for the orginal graph\n",
    "ev = [edge_centrality[edge + (0,)] for edge in G.edges()]\n",
    "\n",
    "# color scale converted to list of colors for graph edges\n",
    "norm = colors.Normalize(vmin=min(ev)*0.8, vmax=max(ev))\n",
    "cmap = cm.ScalarMappable(norm=norm, cmap=cm.inferno)\n",
    "ec = [cmap.to_rgba(cl) for cl in ev]\n",
    "\n",
    "# color the edges in the original graph with closeness centralities in the line graph\n",
    "fig, ax = ox.plot_graph(G, bgcolor='k', axis_off=True, node_size=0, node_color='w', node_edgecolor='gray', node_zorder=2,\n",
    "                        edge_color=ec, edge_linewidth=1.5, edge_alpha=1)"
   ]
  },
  {
   "cell_type": "code",
   "execution_count": null,
   "metadata": {},
   "outputs": [],
   "source": [
    "# save a shapefile with centrality as node and edge attributes\n",
    "nx.set_node_attributes(G, node_centrality, 'node_centrality')\n",
    "nx.set_edge_attributes(G, edge_centrality, 'edge_centrality')\n",
    "ox.save_graph_shapefile(G)"
   ]
  },
  {
   "cell_type": "code",
   "execution_count": null,
   "metadata": {},
   "outputs": [],
   "source": []
  }
 ],
 "metadata": {
  "kernelspec": {
   "display_name": "Python (ox)",
   "language": "python",
   "name": "ox"
  },
  "language_info": {
   "codemirror_mode": {
    "name": "ipython",
    "version": 3
   },
   "file_extension": ".py",
   "mimetype": "text/x-python",
   "name": "python",
   "nbconvert_exporter": "python",
   "pygments_lexer": "ipython3",
   "version": "3.9.1"
  }
 },
 "nbformat": 4,
 "nbformat_minor": 4
}
