{
 "cells": [
  {
   "cell_type": "markdown",
   "metadata": {},
   "source": [
    "# Work with other infrastuctures other than streets\n",
    "\n",
    "Author: [Geoff Boeing](https://geoffboeing.com/)\n",
    "\n",
    "Use OSMnx to download and visualize a power line network and a subway system.\n",
    "\n",
    "  - [Overview of OSMnx](http://geoffboeing.com/2016/11/osmnx-python-street-networks/)\n",
    "  - [GitHub repo](https://github.com/gboeing/osmnx)\n",
    "  - [Examples, demos, tutorials](https://github.com/gboeing/osmnx-examples)\n",
    "  - [Documentation](https://osmnx.readthedocs.io/en/stable/)\n",
    "  - [Journal article/citation](http://geoffboeing.com/publications/osmnx-complex-street-networks/)"
   ]
  },
  {
   "cell_type": "code",
   "execution_count": null,
   "metadata": {},
   "outputs": [],
   "source": [
    "import osmnx as ox\n",
    "ox.config(use_cache=True, log_console=True)\n",
    "ox.__version__"
   ]
  },
  {
   "cell_type": "code",
   "execution_count": null,
   "metadata": {},
   "outputs": [],
   "source": [
    "point = (33.9017,-116.9594)\n",
    "dist = 100000\n",
    "north, south, east, west = ox.bbox_from_point(point, distance=dist)"
   ]
  },
  {
   "cell_type": "code",
   "execution_count": null,
   "metadata": {},
   "outputs": [],
   "source": [
    "# power lines around southern california\n",
    "# OSMnx automatically divides this up into 25 API calls to not overload server\n",
    "G = ox.graph_from_bbox(north=north, south=south, east=east, west=west,\n",
    "                       retain_all=True, truncate_by_edge=True, simplify=False,\n",
    "                       network_type='none', infrastructure='way[\"power\"~\"line\"]')\n",
    "fig, ax = ox.plot_graph(ox.project_graph(G))"
   ]
  },
  {
   "cell_type": "code",
   "execution_count": null,
   "metadata": {},
   "outputs": [],
   "source": [
    "# nyc subway\n",
    "point = (40.73120,-73.98672)\n",
    "dist = 10000\n",
    "north, south, east, west = ox.bbox_from_point(point, distance=dist)\n",
    "G = ox.graph_from_bbox(north=north, south=south, east=east, west=west,\n",
    "                       retain_all=True, truncate_by_edge=True, simplify=True,\n",
    "                       network_type='none', infrastructure='way[\"railway\"~\"subway\"]')\n",
    "fig, ax = ox.plot_graph(ox.project_graph(G))"
   ]
  },
  {
   "cell_type": "code",
   "execution_count": null,
   "metadata": {},
   "outputs": [],
   "source": []
  }
 ],
 "metadata": {
  "kernelspec": {
   "display_name": "Python (ox)",
   "language": "python",
   "name": "ox"
  },
  "language_info": {
   "codemirror_mode": {
    "name": "ipython",
    "version": 3
   },
   "file_extension": ".py",
   "mimetype": "text/x-python",
   "name": "python",
   "nbconvert_exporter": "python",
   "pygments_lexer": "ipython3",
   "version": "3.9.1"
  }
 },
 "nbformat": 4,
 "nbformat_minor": 4
}
