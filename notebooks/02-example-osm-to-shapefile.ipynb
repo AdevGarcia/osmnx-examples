{
 "cells": [
  {
   "cell_type": "markdown",
   "metadata": {},
   "source": [
    "# Get shapefiles from OpenStreetMap with OSMnx\n",
    "\n",
    "Author: [Geoff Boeing](https://geoffboeing.com/)\n",
    "\n",
    "  - [Overview of OSMnx](http://geoffboeing.com/2016/11/osmnx-python-street-networks/)\n",
    "  - [GitHub repo](https://github.com/gboeing/osmnx)\n",
    "  - [Examples, demos, tutorials](https://github.com/gboeing/osmnx-examples)\n",
    "  - [Documentation](https://osmnx.readthedocs.io/en/stable/)\n",
    "  - [Journal article/citation](http://geoffboeing.com/publications/osmnx-complex-street-networks/)"
   ]
  },
  {
   "cell_type": "code",
   "execution_count": null,
   "metadata": {},
   "outputs": [],
   "source": [
    "import osmnx as ox\n",
    "%matplotlib inline\n",
    "ox.config(log_console=True, use_cache=True)\n",
    "ox.__version__"
   ]
  },
  {
   "cell_type": "markdown",
   "metadata": {},
   "source": [
    "## Get the shapefile for one city, project it, display it, and save it"
   ]
  },
  {
   "cell_type": "code",
   "execution_count": null,
   "metadata": {},
   "outputs": [],
   "source": [
    "# from some place name, create a GeoDataFrame containing the geometry of the place\n",
    "city = ox.gdf_from_place('Walnut Creek, California, USA')\n",
    "city"
   ]
  },
  {
   "cell_type": "code",
   "execution_count": null,
   "metadata": {},
   "outputs": [],
   "source": [
    "# save the retrieved data as a shapefile\n",
    "ox.save_gdf_shapefile(city)"
   ]
  },
  {
   "cell_type": "code",
   "execution_count": null,
   "metadata": {},
   "outputs": [],
   "source": [
    "# project the geometry to the appropriate UTM zone (calculated automatically) then plot it\n",
    "city = ox.project_gdf(city)\n",
    "fig, ax = ox.plot_shape(city)"
   ]
  },
  {
   "cell_type": "markdown",
   "metadata": {},
   "source": [
    "## Create a shapefile for multiple cities, project it, display it, and save it"
   ]
  },
  {
   "cell_type": "code",
   "execution_count": null,
   "metadata": {},
   "outputs": [],
   "source": [
    "# define a list of place names\n",
    "place_names = ['Berkeley, California, USA', \n",
    "               'Oakland, California, USA',\n",
    "               'Piedmont, California, USA',\n",
    "               'Emeryville, California, USA',\n",
    "               'Alameda, Alameda County, CA, USA']"
   ]
  },
  {
   "cell_type": "code",
   "execution_count": null,
   "metadata": {},
   "outputs": [],
   "source": [
    "# create a GeoDataFrame with rows for each place in the list\n",
    "east_bay = ox.gdf_from_places(place_names, gdf_name='east_bay_cities')\n",
    "east_bay"
   ]
  },
  {
   "cell_type": "code",
   "execution_count": null,
   "metadata": {},
   "outputs": [],
   "source": [
    "# project the geometry to the appropriate UTM zone then plot it\n",
    "east_bay = ox.project_gdf(east_bay)\n",
    "fig, ax = ox.plot_shape(east_bay)"
   ]
  },
  {
   "cell_type": "code",
   "execution_count": null,
   "metadata": {},
   "outputs": [],
   "source": [
    "# save the retrieved and projected data as a shapefile\n",
    "ox.save_gdf_shapefile(east_bay)"
   ]
  },
  {
   "cell_type": "markdown",
   "metadata": {},
   "source": [
    "## You can also construct buffered spatial geometries"
   ]
  },
  {
   "cell_type": "code",
   "execution_count": null,
   "metadata": {},
   "outputs": [],
   "source": [
    "# pass in buffer_dist in meters\n",
    "city_buffered = ox.gdf_from_place('Walnut Creek, California, USA', buffer_dist=250)\n",
    "fig, ax = ox.plot_shape(city_buffered)"
   ]
  },
  {
   "cell_type": "code",
   "execution_count": null,
   "metadata": {},
   "outputs": [],
   "source": [
    "# you can buffer multiple places in a single query\n",
    "east_bay_buffered = ox.gdf_from_places(place_names, gdf_name='east_bay_cities', buffer_dist=250)\n",
    "fig, ax = ox.plot_shape(east_bay_buffered, alpha=0.7)"
   ]
  },
  {
   "cell_type": "markdown",
   "metadata": {},
   "source": [
    "## You can download boroughs, counties, states, or countries too\n",
    "\n",
    "Notice the polygon geometries represent political boundaries, not physical/land boundaries."
   ]
  },
  {
   "cell_type": "code",
   "execution_count": null,
   "metadata": {},
   "outputs": [],
   "source": [
    "gdf = ox.gdf_from_place('Manhattan, New York, New York, USA')\n",
    "gdf = ox.project_gdf(gdf)\n",
    "fig, ax = ox.plot_shape(gdf)"
   ]
  },
  {
   "cell_type": "code",
   "execution_count": null,
   "metadata": {},
   "outputs": [],
   "source": [
    "gdf = ox.gdf_from_place('Cook County, Illinois, United States')\n",
    "gdf = ox.project_gdf(gdf)\n",
    "fig, ax = ox.plot_shape(gdf)"
   ]
  },
  {
   "cell_type": "code",
   "execution_count": null,
   "metadata": {},
   "outputs": [],
   "source": [
    "gdf = ox.gdf_from_place('Iowa')\n",
    "gdf = ox.project_gdf(gdf)\n",
    "fig, ax = ox.plot_shape(gdf)"
   ]
  },
  {
   "cell_type": "code",
   "execution_count": null,
   "metadata": {},
   "outputs": [],
   "source": [
    "gdf = ox.gdf_from_places(['United Kingdom', 'Ireland'])\n",
    "gdf = ox.project_gdf(gdf)\n",
    "fig, ax = ox.plot_shape(gdf)"
   ]
  },
  {
   "cell_type": "markdown",
   "metadata": {},
   "source": [
    "## Be careful to pass the right place name that OSM needs\n",
    "\n",
    "Be specific and explicit, and sanity check the results. The function logs a warning if you get a point returned instead of a polygon. In the first example below, OSM resolves 'Melbourne, Victoria, Australia' to a single point at the center of the city. In the second example below, OSM correctly resolves 'City of Melbourne, Victoria, Australia' to the entire city and returns its polygon geometry."
   ]
  },
  {
   "cell_type": "code",
   "execution_count": null,
   "metadata": {},
   "outputs": [],
   "source": [
    "melbourne = ox.gdf_from_place('Melbourne, Victoria, Australia')\n",
    "melbourne = ox.project_gdf(melbourne)\n",
    "type(melbourne['geometry'].iloc[0])"
   ]
  },
  {
   "cell_type": "code",
   "execution_count": null,
   "metadata": {},
   "outputs": [],
   "source": [
    "melbourne = ox.gdf_from_place('City of Melbourne, Victoria, Australia')\n",
    "melbourne = ox.project_gdf(melbourne)\n",
    "fig, ax = ox.plot_shape(melbourne)"
   ]
  },
  {
   "cell_type": "markdown",
   "metadata": {},
   "source": [
    "## Specify you wanted a *country* if it resolves to a *city* of the same name"
   ]
  },
  {
   "cell_type": "markdown",
   "metadata": {},
   "source": [
    "OSM resolves 'Mexico' to Mexico City and returns a single point at the center of the city. Instead we have a couple options:\n",
    "  \n",
    "  1. We can pass a dict containing a structured query to specify that we want Mexico the country instead of Mexico the city.\n",
    "  2. We can also get multiple countries by passing a list of queries. These can be a mixture of strings and dicts."
   ]
  },
  {
   "cell_type": "code",
   "execution_count": null,
   "metadata": {},
   "outputs": [],
   "source": [
    "mexico = ox.gdf_from_place('Mexico')\n",
    "mexico = ox.project_gdf(mexico)\n",
    "type(mexico['geometry'].iloc[0])"
   ]
  },
  {
   "cell_type": "code",
   "execution_count": null,
   "metadata": {},
   "outputs": [],
   "source": [
    "# instead of a string, you can pass a dict containing a structured query\n",
    "mexico = ox.gdf_from_place({'country':'Mexico'})\n",
    "mexico = ox.project_gdf(mexico)\n",
    "fig, ax = ox.plot_shape(mexico)"
   ]
  },
  {
   "cell_type": "code",
   "execution_count": null,
   "metadata": {},
   "outputs": [],
   "source": [
    "# you can pass multiple queries with mixed types (dicts and strings)\n",
    "mx_gt_tx = ox.gdf_from_places(queries=[{'country':'Mexico'}, 'Guatemala', {'state':'Texas'}])\n",
    "mx_gt_tx = ox.project_gdf(mx_gt_tx)\n",
    "fig, ax = ox.plot_shape(mx_gt_tx)"
   ]
  },
  {
   "cell_type": "markdown",
   "metadata": {},
   "source": [
    "## You can request a specific result number\n",
    "\n",
    "By default, we only request 1 result from OSM. But, we can pass an optional `which_result` parameter to query OSM for *n* results and then process/return the *n*th. If you query 'France', OSM returns the country with all its overseas territories as result 2 and European France alone as result 1. Querying for 'France' returns just the first result (European France), but passing `which_result=2` instead retrieves the top 2 results from OSM and processes/returns the 2nd one (all of France's overseas territories). You could have also done this to retrieve Mexico the country instead of Mexico City above."
   ]
  },
  {
   "cell_type": "code",
   "execution_count": null,
   "metadata": {},
   "outputs": [],
   "source": [
    "france = ox.gdf_from_place('France', which_result=2)\n",
    "france = ox.project_gdf(france)\n",
    "fig, ax = ox.plot_shape(france)"
   ]
  },
  {
   "cell_type": "code",
   "execution_count": null,
   "metadata": {},
   "outputs": [],
   "source": [
    "france = ox.gdf_from_place('France')\n",
    "france = ox.project_gdf(france)\n",
    "fig, ax = ox.plot_shape(france)"
   ]
  },
  {
   "cell_type": "code",
   "execution_count": null,
   "metadata": {},
   "outputs": [],
   "source": []
  }
 ],
 "metadata": {
  "anaconda-cloud": {},
  "kernelspec": {
   "display_name": "Python (ox)",
   "language": "python",
   "name": "ox"
  },
  "language_info": {
   "codemirror_mode": {
    "name": "ipython",
    "version": 3
   },
   "file_extension": ".py",
   "mimetype": "text/x-python",
   "name": "python",
   "nbconvert_exporter": "python",
   "pygments_lexer": "ipython3",
   "version": "3.9.1"
  }
 },
 "nbformat": 4,
 "nbformat_minor": 4
}
