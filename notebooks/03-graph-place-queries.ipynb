{
 "cells": [
  {
   "cell_type": "markdown",
   "metadata": {},
   "source": [
    "# Use OSMnx to get street networks by place name\n",
    "\n",
    "Author: [Geoff Boeing](https://geoffboeing.com/)\n",
    "\n",
    "  - [Overview of OSMnx](http://geoffboeing.com/2016/11/osmnx-python-street-networks/)\n",
    "  - [GitHub repo](https://github.com/gboeing/osmnx)\n",
    "  - [Examples, demos, tutorials](https://github.com/gboeing/osmnx-examples)\n",
    "  - [Documentation](https://osmnx.readthedocs.io/en/stable/)\n",
    "  - [Journal article/citation](http://geoffboeing.com/publications/osmnx-complex-street-networks/)\n",
    "  \n",
    "Once you've perused the features demo and overview notebooks, this notebook provides further demonstration of querying by place name with OSMnx."
   ]
  },
  {
   "cell_type": "code",
   "execution_count": null,
   "metadata": {},
   "outputs": [],
   "source": [
    "import osmnx as ox\n",
    "%matplotlib inline\n",
    "ox.config(log_console=True, use_cache=True)\n",
    "ox.__version__"
   ]
  },
  {
   "cell_type": "markdown",
   "metadata": {},
   "source": [
    "## 1. Query/download place boundaries\n",
    "\n",
    "The `graph_from_place` function uses place boundary geocoding logic to find the network within your place's boundary. Let's look briefly at this place boundary querying before we get to street networks. You can download by cities, neighborhoods, boroughs, counties, states, or countries: anything with geocodable polygon boundaries in OSM's database. Notice the polygon geometries represent political boundaries, not physical/land boundaries."
   ]
  },
  {
   "cell_type": "code",
   "execution_count": null,
   "metadata": {},
   "outputs": [],
   "source": [
    "# neighborhoods or boroughs\n",
    "gdf = ox.gdf_from_place('Manhattan, New York, New York, USA')\n",
    "\n",
    "# counties\n",
    "gdf = ox.gdf_from_place('Cook County, Illinois, United States')\n",
    "\n",
    "# states\n",
    "gdf = ox.gdf_from_place('Iowa')"
   ]
  },
  {
   "cell_type": "code",
   "execution_count": null,
   "metadata": {},
   "outputs": [],
   "source": [
    "# you can also buffer the place boundaries (0.5 km in this example)\n",
    "gdf = ox.gdf_from_place('Piedmont, California, USA', buffer_dist=500)"
   ]
  },
  {
   "cell_type": "code",
   "execution_count": null,
   "metadata": {},
   "outputs": [],
   "source": [
    "# you can get multiple places in a single query\n",
    "gdf = ox.gdf_from_places(['United Kingdom', 'Ireland'])\n",
    "\n",
    "# and optionally buffer them\n",
    "places = ['Berkeley, California, USA', \n",
    "          'Oakland, California, USA',\n",
    "          'Piedmont, California, USA',\n",
    "          'Emeryville, California, USA',\n",
    "          'Alameda, Alameda County, CA, USA']\n",
    "gdf = ox.gdf_from_places(places, buffer_dist=500)"
   ]
  },
  {
   "cell_type": "markdown",
   "metadata": {},
   "source": [
    "### Be careful to pass the right place name to get what you want\n",
    "\n",
    "Be specific and explicit, and sanity check the results. Try passing a dict instead of a string to be more explicit."
   ]
  },
  {
   "cell_type": "code",
   "execution_count": null,
   "metadata": {},
   "outputs": [],
   "source": [
    "# oops, this gets the county of alameda rather than the city!\n",
    "alameda1 = ox.gdf_from_place('Alameda, California, USA')\n",
    "\n",
    "# this gets the city of alameda\n",
    "alameda2 = ox.gdf_from_place({'city'   : 'Alameda',\n",
    "                              'county' : 'Alameda County',\n",
    "                              'state'  : 'California',\n",
    "                              'country': 'USA'})\n",
    "\n",
    "# the city is a very small part of the county\n",
    "alameda1 = ox.projection.project_gdf(alameda1)\n",
    "alameda2 = ox.projection.project_gdf(alameda2)\n",
    "alameda2.area.iloc[0] / alameda1.area.iloc[0]"
   ]
  },
  {
   "cell_type": "markdown",
   "metadata": {},
   "source": [
    "OSM resolves 'Mexico' to Mexico City and returns a single point at the center of the city. If we want the boundaries of the country of Mexico, we can pass a dict containing a structured query to specify that we want Mexico the country instead of Mexico the city."
   ]
  },
  {
   "cell_type": "code",
   "execution_count": null,
   "metadata": {},
   "outputs": [],
   "source": [
    "mexico = ox.gdf_from_place('Mexico')\n",
    "type(mexico['geometry'].iloc[0])"
   ]
  },
  {
   "cell_type": "code",
   "execution_count": null,
   "metadata": {},
   "outputs": [],
   "source": [
    "# instead of a string, you can pass a dict containing a structured query\n",
    "mexico = ox.gdf_from_place({'country':'Mexico'})"
   ]
  },
  {
   "cell_type": "code",
   "execution_count": null,
   "metadata": {},
   "outputs": [],
   "source": [
    "# you can pass multiple queries with mixed types (dicts and strings)\n",
    "mx_gt_tx = ox.gdf_from_places(queries=[{'country':'Mexico'}, 'Guatemala', {'state':'Texas'}])\n",
    "fig, ax = ox.plot_shape(ox.projection.project_gdf(mx_gt_tx))"
   ]
  },
  {
   "cell_type": "markdown",
   "metadata": {},
   "source": [
    "### You can request a specific result number\n",
    "\n",
    "By default, we only request one result from OSM. But, we can pass an optional `which_result` parameter to query OSM for *n* results and then process/return the *n*th. If you query 'France', OSM returns the country with all its overseas territories as result 1 and European France alone as result 2. Querying for 'France' returns just the first result, but passing `which_result=2` instead retrieves the top 2 results from OSM and processes/returns the 2nd one. You could have also done this to retrieve Mexico the country instead of Mexico City above."
   ]
  },
  {
   "cell_type": "code",
   "execution_count": null,
   "metadata": {},
   "outputs": [],
   "source": [
    "france = ox.gdf_from_place('France', which_result=2)\n",
    "fig, ax = ox.plot_shape(ox.projection.project_gdf(france))"
   ]
  },
  {
   "cell_type": "markdown",
   "metadata": {},
   "source": [
    "## 2. Get street networks by place name\n",
    "\n",
    "This \"by place\" querying logic works the same as the place boundary querying we just saw above."
   ]
  },
  {
   "cell_type": "code",
   "execution_count": null,
   "metadata": {},
   "outputs": [],
   "source": [
    "# get the walking network for piedmont\n",
    "G = ox.graph_from_place('Piedmont, California, USA', network_type='walk')"
   ]
  },
  {
   "cell_type": "code",
   "execution_count": null,
   "metadata": {},
   "outputs": [],
   "source": [
    "# you can also get a network with a buffer distance (meters) around the place\n",
    "G = ox.graph_from_place('Piedmont, California, USA', network_type='walk', buffer_dist=200)"
   ]
  },
  {
   "cell_type": "code",
   "execution_count": null,
   "metadata": {},
   "outputs": [],
   "source": [
    "# create a network from multiple places\n",
    "places = ['Piedmont, California, USA', \n",
    "          'Berkeley, California, USA',\n",
    "          'Emeryville, California, USA']\n",
    "\n",
    "# use retain_all if you want to keep all disconnected subgraphs (e.g. when your places aren't adjacent)\n",
    "G = ox.graph_from_place(places, network_type='drive', retain_all=True)\n",
    "fig, ax = ox.plot_graph(G, node_size=0, edge_linewidth=0.25, bgcolor='k')"
   ]
  },
  {
   "cell_type": "code",
   "execution_count": null,
   "metadata": {},
   "outputs": [],
   "source": [
    "# or create a network from structured place queries\n",
    "places = [{'city':'Daly City', 'state':'California'}, \n",
    "         {'city':'South San Francisco', 'state':'California'}]\n",
    "G = ox.graph_from_place(places, network_type='drive')"
   ]
  },
  {
   "cell_type": "code",
   "execution_count": null,
   "metadata": {},
   "outputs": [],
   "source": [
    "# get the network for the borough of manhattan\n",
    "G = ox.graph_from_place('Manhattan, New York, New York, USA', network_type='drive')"
   ]
  },
  {
   "cell_type": "code",
   "execution_count": null,
   "metadata": {},
   "outputs": [],
   "source": [
    "# get the network for the financial district neighborhood in downtown LA\n",
    "place = 'Financial District, Los Angeles, California, USA'\n",
    "G = ox.graph_from_place(place, which_result=2, network_type='drive')"
   ]
  },
  {
   "cell_type": "code",
   "execution_count": null,
   "metadata": {},
   "outputs": [],
   "source": [
    "%%time\n",
    "# get the network for all of LA\n",
    "# takes a couple minutes to do all the downloading and processing\n",
    "place = 'Los Angeles, California, USA'\n",
    "G = ox.graph_from_place(place, network_type='drive', simplify=False, retain_all=True)"
   ]
  },
  {
   "cell_type": "markdown",
   "metadata": {},
   "source": [
    "Note that if you want a projected network, it's usually faster for large cities to say simplify=False, then project the graph, then simplify it. Projecting a simplified graph with spatial geometries embedded as edge attributes can take a *long* time in large networks."
   ]
  },
  {
   "cell_type": "code",
   "execution_count": null,
   "metadata": {},
   "outputs": [],
   "source": [
    "# create a network constrained to the shape of hong kong island\n",
    "G = ox.graph_from_place('Hong Kong Island', network_type='drive')"
   ]
  },
  {
   "cell_type": "code",
   "execution_count": null,
   "metadata": {},
   "outputs": [],
   "source": []
  }
 ],
 "metadata": {
  "anaconda-cloud": {},
  "kernelspec": {
   "display_name": "Python (ox)",
   "language": "python",
   "name": "ox"
  },
  "language_info": {
   "codemirror_mode": {
    "name": "ipython",
    "version": 3
   },
   "file_extension": ".py",
   "mimetype": "text/x-python",
   "name": "python",
   "nbconvert_exporter": "python",
   "pygments_lexer": "ipython3",
   "version": "3.9.1"
  }
 },
 "nbformat": 4,
 "nbformat_minor": 4
}
